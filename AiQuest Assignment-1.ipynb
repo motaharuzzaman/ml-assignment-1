{
 "cells": [
  {
   "cell_type": "code",
   "execution_count": 1,
   "id": "72ea47c6",
   "metadata": {},
   "outputs": [],
   "source": [
    "#!pip install gspread"
   ]
  },
  {
   "cell_type": "code",
   "execution_count": 2,
   "id": "9fcfe2be",
   "metadata": {},
   "outputs": [],
   "source": [
    "import pandas as pd\n",
    "import gspread"
   ]
  },
  {
   "cell_type": "code",
   "execution_count": 3,
   "id": "865f88d1",
   "metadata": {},
   "outputs": [],
   "source": [
    "gc = gspread.service_account(filename = 'D:\\Learning\\AiQuest\\learning-data-science-aiquest-5b894f06ea18.json')"
   ]
  },
  {
   "cell_type": "code",
   "execution_count": 4,
   "id": "a6fb3ba2",
   "metadata": {},
   "outputs": [],
   "source": [
    "sheet = gc.open_by_url('https://docs.google.com/spreadsheets/d/1G_YdEwHNa-j1eE2d0ZrP2zyLx8IFQWczP7Wd2me2LWw/edit?usp=sharing')"
   ]
  },
  {
   "cell_type": "code",
   "execution_count": 5,
   "id": "42eb774d",
   "metadata": {},
   "outputs": [
    {
     "data": {
      "text/plain": [
       "<Spreadsheet 'Motahar Family' id:1G_YdEwHNa-j1eE2d0ZrP2zyLx8IFQWczP7Wd2me2LWw>"
      ]
     },
     "execution_count": 5,
     "metadata": {},
     "output_type": "execute_result"
    }
   ],
   "source": [
    "sheet"
   ]
  },
  {
   "cell_type": "code",
   "execution_count": 6,
   "id": "bd54e927",
   "metadata": {},
   "outputs": [],
   "source": [
    "ws1 = sheet.worksheet('Info1')"
   ]
  },
  {
   "cell_type": "code",
   "execution_count": 7,
   "id": "fe722aa5",
   "metadata": {},
   "outputs": [],
   "source": [
    "df1 = pd.DataFrame(ws1.get_all_records())"
   ]
  },
  {
   "cell_type": "code",
   "execution_count": 8,
   "id": "0bbf5172",
   "metadata": {},
   "outputs": [
    {
     "data": {
      "text/html": [
       "<div>\n",
       "<style scoped>\n",
       "    .dataframe tbody tr th:only-of-type {\n",
       "        vertical-align: middle;\n",
       "    }\n",
       "\n",
       "    .dataframe tbody tr th {\n",
       "        vertical-align: top;\n",
       "    }\n",
       "\n",
       "    .dataframe thead th {\n",
       "        text-align: right;\n",
       "    }\n",
       "</style>\n",
       "<table border=\"1\" class=\"dataframe\">\n",
       "  <thead>\n",
       "    <tr style=\"text-align: right;\">\n",
       "      <th></th>\n",
       "      <th>name1</th>\n",
       "      <th>age1</th>\n",
       "    </tr>\n",
       "  </thead>\n",
       "  <tbody>\n",
       "    <tr>\n",
       "      <th>0</th>\n",
       "      <td>Motahar</td>\n",
       "      <td>52</td>\n",
       "    </tr>\n",
       "    <tr>\n",
       "      <th>1</th>\n",
       "      <td>Shanta</td>\n",
       "      <td>42</td>\n",
       "    </tr>\n",
       "    <tr>\n",
       "      <th>2</th>\n",
       "      <td>Wasie</td>\n",
       "      <td>13</td>\n",
       "    </tr>\n",
       "    <tr>\n",
       "      <th>3</th>\n",
       "      <td>Shayan</td>\n",
       "      <td>11</td>\n",
       "    </tr>\n",
       "  </tbody>\n",
       "</table>\n",
       "</div>"
      ],
      "text/plain": [
       "     name1  age1\n",
       "0  Motahar    52\n",
       "1   Shanta    42\n",
       "2    Wasie    13\n",
       "3   Shayan    11"
      ]
     },
     "execution_count": 8,
     "metadata": {},
     "output_type": "execute_result"
    }
   ],
   "source": [
    "df1"
   ]
  },
  {
   "cell_type": "code",
   "execution_count": 9,
   "id": "ae0d1291",
   "metadata": {},
   "outputs": [],
   "source": [
    "ws2 = sheet.worksheet('Info2')"
   ]
  },
  {
   "cell_type": "code",
   "execution_count": 10,
   "id": "b65a95e8",
   "metadata": {},
   "outputs": [],
   "source": [
    "df2 = pd.DataFrame(ws2.get_all_records())"
   ]
  },
  {
   "cell_type": "code",
   "execution_count": 11,
   "id": "4c621b8e",
   "metadata": {},
   "outputs": [
    {
     "data": {
      "text/html": [
       "<div>\n",
       "<style scoped>\n",
       "    .dataframe tbody tr th:only-of-type {\n",
       "        vertical-align: middle;\n",
       "    }\n",
       "\n",
       "    .dataframe tbody tr th {\n",
       "        vertical-align: top;\n",
       "    }\n",
       "\n",
       "    .dataframe thead th {\n",
       "        text-align: right;\n",
       "    }\n",
       "</style>\n",
       "<table border=\"1\" class=\"dataframe\">\n",
       "  <thead>\n",
       "    <tr style=\"text-align: right;\">\n",
       "      <th></th>\n",
       "      <th>name2</th>\n",
       "      <th>age2</th>\n",
       "    </tr>\n",
       "  </thead>\n",
       "  <tbody>\n",
       "    <tr>\n",
       "      <th>0</th>\n",
       "      <td>Motahar</td>\n",
       "      <td>52</td>\n",
       "    </tr>\n",
       "    <tr>\n",
       "      <th>1</th>\n",
       "      <td>Shanta</td>\n",
       "      <td>42</td>\n",
       "    </tr>\n",
       "    <tr>\n",
       "      <th>2</th>\n",
       "      <td>Wasie</td>\n",
       "      <td>13</td>\n",
       "    </tr>\n",
       "    <tr>\n",
       "      <th>3</th>\n",
       "      <td>Shayan</td>\n",
       "      <td>11</td>\n",
       "    </tr>\n",
       "  </tbody>\n",
       "</table>\n",
       "</div>"
      ],
      "text/plain": [
       "     name2  age2\n",
       "0  Motahar    52\n",
       "1   Shanta    42\n",
       "2    Wasie    13\n",
       "3   Shayan    11"
      ]
     },
     "execution_count": 11,
     "metadata": {},
     "output_type": "execute_result"
    }
   ],
   "source": [
    "df2"
   ]
  }
 ],
 "metadata": {
  "kernelspec": {
   "display_name": "Python 3 (ipykernel)",
   "language": "python",
   "name": "python3"
  },
  "language_info": {
   "codemirror_mode": {
    "name": "ipython",
    "version": 3
   },
   "file_extension": ".py",
   "mimetype": "text/x-python",
   "name": "python",
   "nbconvert_exporter": "python",
   "pygments_lexer": "ipython3",
   "version": "3.9.13"
  }
 },
 "nbformat": 4,
 "nbformat_minor": 5
}
